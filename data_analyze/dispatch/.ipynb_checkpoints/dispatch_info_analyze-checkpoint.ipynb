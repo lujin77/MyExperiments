{
 "cells": [
  {
   "cell_type": "markdown",
   "metadata": {
    "nbpresent": {
     "id": "d7987c1a-2b38-4a90-9110-4a8313379fec"
    }
   },
   "source": [
    "### dispatch_info 探索性分析"
   ]
  },
  {
   "cell_type": "code",
   "execution_count": 9,
   "metadata": {
    "collapsed": false,
    "nbpresent": {
     "id": "22c294b0-d463-486c-bb9b-16b5444c89b1"
    }
   },
   "outputs": [
    {
     "data": {
      "image/png": "[encoded data removed]",
      "text/plain": [
       "<matplotlib.figure.Figure at 0x119917950>"
      ]
     },
     "metadata": {},
     "output_type": "display_data"
    }
   ],
   "source": [
    "import pandas as pd\n",
    "import matplotlib\n",
    "import numpy as np\n",
    "import matplotlib.pyplot as plt\n",
    "%matplotlib inline\n",
    "\n",
    "title = ['datetime', 'service_order_id', 'round', 'batch', 'flag', 'driver_id', 'distance', 'dispatch_time', 'dispatch_lat', 'dispatch_lng', 'dispatch_total_rate', 'response_time', 'accept_status', 'response_lat', 'response_lng', 'response_distance', 'response_time_length', 'decision_time', 'decision_total_rate', 'decision_result', 'decision_failure_reason', 'decision_msg_snapshot', 'subtract_amount', 'is_assigned', 'route_distance', 'route_time_length', 'distance_time_length', 'dispatch_driver_type', 'dispatch_is_assigned', 'dispatch_version', 'dispatch_color', 'dispatch_silence_end_at', 'dispatch_has_logistics', 'dispatch_contribution_rate', 'dispatch_driver_id', 'dispatch_device_type', 'dispatch_discount_rate', 'dispatch_audit_status', 'dispatch_evaluation_rate', 'dispatch_car_type_id', 'dispatch_city', 'dispatch_vehicle_number', 'dispatch_distance_rate', 'dispatch_is_self_employed', 'dispatch_destwish_rate', 'dispatch_good_comment_rate', 'dispatch_car_model_id', 'dispatch_route_time_length', 'dispatch_base_score_rate', 'dispatch_latitude', 'dispatch_evaluation', 'dispatch_seat_num', 'dispatch_distance_time_length', 'dispatch_driver_level', 'dispatch_cellphone', 'dispatch_brand', 'dispatch_base_score', 'dispatch_surpport_face_pay', 'dispatch_last_position_time', 'dispatch_flag', 'dispatch_imei', 'dispatch_device_id', 'dispatch_car_brand_id', 'dispatch_distance', 'dispatch_name', 'dispatch_country', 'dispatch_longitude', 'dispatch_route_distance', 'dispatch_work_status', 'dispatch_destwish', 'dispatch_contribution', 'dispatch_car_id', 'dispatch_has_qualified', 'add_price_type', 'add_total_amount', 'add_price_rate', 'add_price_vip', 'add_amount_str_full', 'add_price_max_amount', 'add_price_redispatch', 'strategy_id', 'add_amount_str']\n",
    "\n",
    "data = pd.read_csv('data/dispatch_info.mini.csv', header=None, names=title)\n",
    "\n",
    "data.head()\n",
    "\n",
    "data[['datetime', 'service_order_id']]\n",
    "\n",
    "data.iloc[:2, 0:4]\n",
    "\n",
    "#df.dtypes\n",
    "\n",
    "#df.info()\n",
    "\n",
    "data['round'].dropna().hist(bins=50, range=(0,100), alpha = 0.5)  \n",
    "#plt.show()"
   ]
  },
  {
   "cell_type": "code",
   "execution_count": 11,
   "metadata": {
    "collapsed": false,
    "nbpresent": {
     "id": "17a21dbf-3507-4fe8-bf85-ed8a5abc527a"
    }
   },
   "outputs": [
    {
     "name": "stdout",
     "output_type": "stream",
     "text": [
      "Iteration is stopped.\n",
      "82164\n"
     ]
    }
   ],
   "source": [
    "import pandas as pd\n",
    "reader = pd.read_csv('data/dispatch_info.mini.csv', header=None, names=title, iterator=True)\n",
    "\n",
    "loop = True\n",
    "chunkSize = 100\n",
    "chunks = []\n",
    "while loop:\n",
    "    try:\n",
    "        chunk = reader.get_chunk(chunkSize)\n",
    "        chunks.append(chunk)\n",
    "    except StopIteration:\n",
    "        loop = False\n",
    "        print \"Iteration is stopped.\"\n",
    "df = pd.concat(chunks, ignore_index=True)\n",
    "\n",
    "print df.size"
   ]
  },
  {
   "cell_type": "code",
   "execution_count": 20,
   "metadata": {
    "collapsed": false
   },
   "outputs": [
    {
     "data": {
      "text/plain": [
       "<matplotlib.axes._subplots.AxesSubplot at 0x1153bac90>"
      ]
     },
     "execution_count": 20,
     "metadata": {},
     "output_type": "execute_result"
    },
    {
     "data": {
      "image/png": "[encoded data removed]",
      "text/plain": [
       "<matplotlib.figure.Figure at 0x1153ba150>"
      ]
     },
     "metadata": {},
     "output_type": "display_data"
    }
   ],
   "source": [
    "import pandas as pd\n",
    "import matplotlib\n",
    "import numpy as np\n",
    "import matplotlib.pyplot as plt\n",
    "# 首先打开图表行内显示\n",
    "%matplotlib inline\n",
    "\n",
    "# 生成600个随机数（符合正态分布），存放在 Series 或 DataFrame 的某一列中\n",
    "nd = pd.Series(np.random.randn(600))\n",
    "\n",
    "# bins 表示直方图的方块数\n",
    "# range 表示图表显示的范围\n",
    "nd.hist(bins=100, range=(-5,5))"
   ]
  },
  {
   "cell_type": "code",
   "execution_count": 7,
   "metadata": {
    "collapsed": false
   },
   "outputs": [
    {
     "data": {
      "text/html": [
       "<div>\n",
       "<table border=\"1\" class=\"dataframe\">\n",
       "  <thead>\n",
       "    <tr style=\"text-align: right;\">\n",
       "      <th></th>\n",
       "      <th>datetime</th>\n",
       "      <th>service_order_id</th>\n",
       "      <th>round</th>\n",
       "      <th>batch</th>\n",
       "      <th>flag</th>\n",
       "      <th>driver_id</th>\n",
       "      <th>distance</th>\n",
       "      <th>dispatch_time</th>\n",
       "      <th>dispatch_lat</th>\n",
       "      <th>dispatch_lng</th>\n",
       "      <th>...</th>\n",
       "      <th>dispatch_has_qualified</th>\n",
       "      <th>add_price_type</th>\n",
       "      <th>add_total_amount</th>\n",
       "      <th>add_price_rate</th>\n",
       "      <th>add_price_vip</th>\n",
       "      <th>add_amount_str_full</th>\n",
       "      <th>add_price_max_amount</th>\n",
       "      <th>add_price_redispatch</th>\n",
       "      <th>strategy_id</th>\n",
       "      <th>add_amount_str</th>\n",
       "    </tr>\n",
       "  </thead>\n",
       "  <tbody>\n",
       "    <tr>\n",
       "      <th>0</th>\n",
       "      <td>2016-09-20 00:03:04</td>\n",
       "      <td>6332074423257276988</td>\n",
       "      <td>50</td>\n",
       "      <td>7</td>\n",
       "      <td>7</td>\n",
       "      <td>33824</td>\n",
       "      <td>1.474301e+09</td>\n",
       "      <td>1474300970</td>\n",
       "      <td>400</td>\n",
       "      <td>1474301163</td>\n",
       "      <td>...</td>\n",
       "      <td>NaN</td>\n",
       "      <td>NaN</td>\n",
       "      <td>NaN</td>\n",
       "      <td>NaN</td>\n",
       "      <td>NaN</td>\n",
       "      <td>NaN</td>\n",
       "      <td>NaN</td>\n",
       "      <td>NaN</td>\n",
       "      <td>NaN</td>\n",
       "      <td>NaN</td>\n",
       "    </tr>\n",
       "    <tr>\n",
       "      <th>1</th>\n",
       "      <td>2016-09-20 00:03:04</td>\n",
       "      <td>6332074041007628781</td>\n",
       "      <td>40</td>\n",
       "      <td>2</td>\n",
       "      <td>2</td>\n",
       "      <td>544</td>\n",
       "      <td>1.474301e+09</td>\n",
       "      <td>1474300894</td>\n",
       "      <td>400</td>\n",
       "      <td>1474301074</td>\n",
       "      <td>...</td>\n",
       "      <td>NaN</td>\n",
       "      <td>NaN</td>\n",
       "      <td>NaN</td>\n",
       "      <td>NaN</td>\n",
       "      <td>NaN</td>\n",
       "      <td>NaN</td>\n",
       "      <td>NaN</td>\n",
       "      <td>NaN</td>\n",
       "      <td>NaN</td>\n",
       "      <td>NaN</td>\n",
       "    </tr>\n",
       "    <tr>\n",
       "      <th>2</th>\n",
       "      <td>2016-09-20 00:03:07</td>\n",
       "      <td>6332074049626319005</td>\n",
       "      <td>40</td>\n",
       "      <td>7</td>\n",
       "      <td>7</td>\n",
       "      <td>512</td>\n",
       "      <td>1.474301e+09</td>\n",
       "      <td>0</td>\n",
       "      <td>400</td>\n",
       "      <td>1474300989</td>\n",
       "      <td>...</td>\n",
       "      <td>NaN</td>\n",
       "      <td>NaN</td>\n",
       "      <td>NaN</td>\n",
       "      <td>NaN</td>\n",
       "      <td>NaN</td>\n",
       "      <td>NaN</td>\n",
       "      <td>NaN</td>\n",
       "      <td>NaN</td>\n",
       "      <td>NaN</td>\n",
       "      <td>NaN</td>\n",
       "    </tr>\n",
       "    <tr>\n",
       "      <th>3</th>\n",
       "      <td>2016-09-20 00:03:07</td>\n",
       "      <td>6332074440444696341</td>\n",
       "      <td>40</td>\n",
       "      <td>3</td>\n",
       "      <td>3</td>\n",
       "      <td>33824</td>\n",
       "      <td>1.474301e+09</td>\n",
       "      <td>1474300973</td>\n",
       "      <td>400</td>\n",
       "      <td>1474301167</td>\n",
       "      <td>...</td>\n",
       "      <td>NaN</td>\n",
       "      <td>NaN</td>\n",
       "      <td>NaN</td>\n",
       "      <td>NaN</td>\n",
       "      <td>NaN</td>\n",
       "      <td>NaN</td>\n",
       "      <td>NaN</td>\n",
       "      <td>NaN</td>\n",
       "      <td>NaN</td>\n",
       "      <td>NaN</td>\n",
       "    </tr>\n",
       "    <tr>\n",
       "      <th>4</th>\n",
       "      <td>2016-09-20 00:03:09</td>\n",
       "      <td>6332074444769110249</td>\n",
       "      <td>50</td>\n",
       "      <td>11</td>\n",
       "      <td>11</td>\n",
       "      <td>33792</td>\n",
       "      <td>1.474301e+09</td>\n",
       "      <td>1474300989</td>\n",
       "      <td>400</td>\n",
       "      <td>1474300991</td>\n",
       "      <td>...</td>\n",
       "      <td>NaN</td>\n",
       "      <td>NaN</td>\n",
       "      <td>NaN</td>\n",
       "      <td>NaN</td>\n",
       "      <td>NaN</td>\n",
       "      <td>NaN</td>\n",
       "      <td>NaN</td>\n",
       "      <td>NaN</td>\n",
       "      <td>NaN</td>\n",
       "      <td>NaN</td>\n",
       "    </tr>\n",
       "  </tbody>\n",
       "</table>\n",
       "<p>5 rows × 82 columns</p>\n",
       "</div>"
      ],
      "text/plain": [
       "              datetime     service_order_id round  batch  flag  driver_id  \\\n",
       "0  2016-09-20 00:03:04  6332074423257276988    50      7     7      33824   \n",
       "1  2016-09-20 00:03:04  6332074041007628781    40      2     2        544   \n",
       "2  2016-09-20 00:03:07  6332074049626319005    40      7     7        512   \n",
       "3  2016-09-20 00:03:07  6332074440444696341    40      3     3      33824   \n",
       "4  2016-09-20 00:03:09  6332074444769110249    50     11    11      33792   \n",
       "\n",
       "       distance dispatch_time dispatch_lat dispatch_lng       ...        \\\n",
       "0  1.474301e+09    1474300970          400   1474301163       ...         \n",
       "1  1.474301e+09    1474300894          400   1474301074       ...         \n",
       "2  1.474301e+09             0          400   1474300989       ...         \n",
       "3  1.474301e+09    1474300973          400   1474301167       ...         \n",
       "4  1.474301e+09    1474300989          400   1474300991       ...         \n",
       "\n",
       "   dispatch_has_qualified  add_price_type  add_total_amount  add_price_rate  \\\n",
       "0                     NaN             NaN               NaN             NaN   \n",
       "1                     NaN             NaN               NaN             NaN   \n",
       "2                     NaN             NaN               NaN             NaN   \n",
       "3                     NaN             NaN               NaN             NaN   \n",
       "4                     NaN             NaN               NaN             NaN   \n",
       "\n",
       "   add_price_vip  add_amount_str_full  add_price_max_amount  \\\n",
       "0            NaN                  NaN                   NaN   \n",
       "1            NaN                  NaN                   NaN   \n",
       "2            NaN                  NaN                   NaN   \n",
       "3            NaN                  NaN                   NaN   \n",
       "4            NaN                  NaN                   NaN   \n",
       "\n",
       "   add_price_redispatch  strategy_id  add_amount_str  \n",
       "0                   NaN          NaN             NaN  \n",
       "1                   NaN          NaN             NaN  \n",
       "2                   NaN          NaN             NaN  \n",
       "3                   NaN          NaN             NaN  \n",
       "4                   NaN          NaN             NaN  \n",
       "\n",
       "[5 rows x 82 columns]"
      ]
     },
     "execution_count": 7,
     "metadata": {},
     "output_type": "execute_result"
    }
   ],
   "source": [
    "import pandas as pd\n",
    "import matplotlib\n",
    "import numpy as np\n",
    "import matplotlib.pyplot as plt\n",
    "%matplotlib inline\n",
    "\n",
    "title = ['datetime', 'service_order_id', 'round', 'batch', 'flag', 'driver_id', 'distance', 'dispatch_time', 'dispatch_lat', 'dispatch_lng', 'dispatch_total_rate', 'response_time', 'accept_status', 'response_lat', 'response_lng', 'response_distance', 'response_time_length', 'decision_time', 'decision_total_rate', 'decision_result', 'decision_failure_reason', 'decision_msg_snapshot', 'subtract_amount', 'is_assigned', 'route_distance', 'route_time_length', 'distance_time_length', 'dispatch_driver_type', 'dispatch_is_assigned', 'dispatch_version', 'dispatch_color', 'dispatch_silence_end_at', 'dispatch_has_logistics', 'dispatch_contribution_rate', 'dispatch_driver_id', 'dispatch_device_type', 'dispatch_discount_rate', 'dispatch_audit_status', 'dispatch_evaluation_rate', 'dispatch_car_type_id', 'dispatch_city', 'dispatch_vehicle_number', 'dispatch_distance_rate', 'dispatch_is_self_employed', 'dispatch_destwish_rate', 'dispatch_good_comment_rate', 'dispatch_car_model_id', 'dispatch_route_time_length', 'dispatch_base_score_rate', 'dispatch_latitude', 'dispatch_evaluation', 'dispatch_seat_num', 'dispatch_distance_time_length', 'dispatch_driver_level', 'dispatch_cellphone', 'dispatch_brand', 'dispatch_base_score', 'dispatch_surpport_face_pay', 'dispatch_last_position_time', 'dispatch_flag', 'dispatch_imei', 'dispatch_device_id', 'dispatch_car_brand_id', 'dispatch_distance', 'dispatch_name', 'dispatch_country', 'dispatch_longitude', 'dispatch_route_distance', 'dispatch_work_status', 'dispatch_destwish', 'dispatch_contribution', 'dispatch_car_id', 'dispatch_has_qualified', 'add_price_type', 'add_total_amount', 'add_price_rate', 'add_price_vip', 'add_amount_str_full', 'add_price_max_amount', 'add_price_redispatch', 'strategy_id', 'add_amount_str']\n",
    "\n",
    "data = pd.read_csv('data/dispatch_info.mini.csv', header=None, names=title)\n",
    "\n",
    "data.head()"
   ]
  },
  {
   "cell_type": "code",
   "execution_count": 48,
   "metadata": {
    "collapsed": false
   },
   "outputs": [
    {
     "data": {
      "text/plain": [
       "datetime                   object\n",
       "round                      object\n",
       "dispatch_time              object\n",
       "dispatch_lat               object\n",
       "dispatch_lng               object\n",
       "decision_failure_reason    object\n",
       "subtract_amount            object\n",
       "dispatch_driver_type       object\n",
       "dtype: object"
      ]
     },
     "execution_count": 48,
     "metadata": {},
     "output_type": "execute_result"
    }
   ],
   "source": [
    "import pandas as pd\n",
    "import matplotlib\n",
    "import numpy as np\n",
    "import matplotlib.pyplot as plt\n",
    "%matplotlib inline\n",
    "\n",
    "title = ['datetime', 'service_order_id', 'round', 'batch', 'flag', 'driver_id', 'distance', 'dispatch_time', 'dispatch_lat', 'dispatch_lng', 'dispatch_total_rate', 'response_time', 'accept_status', 'response_lat', 'response_lng', 'response_distance', 'response_time_length', 'decision_time', 'decision_total_rate', 'decision_result', 'decision_failure_reason', 'decision_msg_snapshot', 'subtract_amount', 'is_assigned', 'route_distance', 'route_time_length', 'distance_time_length', 'dispatch_driver_type', 'dispatch_is_assigned', 'dispatch_version', 'dispatch_color', 'dispatch_silence_end_at', 'dispatch_has_logistics', 'dispatch_contribution_rate', 'dispatch_driver_id', 'dispatch_device_type', 'dispatch_discount_rate', 'dispatch_audit_status', 'dispatch_evaluation_rate', 'dispatch_car_type_id', 'dispatch_city', 'dispatch_vehicle_number', 'dispatch_distance_rate', 'dispatch_is_self_employed', 'dispatch_destwish_rate', 'dispatch_good_comment_rate', 'dispatch_car_model_id', 'dispatch_route_time_length', 'dispatch_base_score_rate', 'dispatch_latitude', 'dispatch_evaluation', 'dispatch_seat_num', 'dispatch_distance_time_length', 'dispatch_driver_level', 'dispatch_cellphone', 'dispatch_brand', 'dispatch_base_score', 'dispatch_surpport_face_pay', 'dispatch_last_position_time', 'dispatch_flag', 'dispatch_imei', 'dispatch_device_id', 'dispatch_car_brand_id', 'dispatch_distance', 'dispatch_name', 'dispatch_country', 'dispatch_longitude', 'dispatch_route_distance', 'dispatch_work_status', 'dispatch_destwish', 'dispatch_contribution', 'dispatch_car_id', 'dispatch_has_qualified', 'add_price_type', 'add_total_amount', 'add_price_rate', 'add_price_vip', 'add_amount_str_full', 'add_price_max_amount', 'add_price_redispatch', 'strategy_id', 'add_amount_str']\n",
    "\n",
    "data = pd.read_csv('data/dispatch_info.mini.csv', header=None, names=title)\n",
    "\n",
    "data.dtypes[data.dtypes.map(lambda x: x=='object')]\n",
    "\n",
    "data = data.drop(['dispatch_version', 'dispatch_is_assigned'], axis=1)   \n"
   ]
  },
  {
   "cell_type": "code",
   "execution_count": 49,
   "metadata": {
    "collapsed": false
   },
   "outputs": [
    {
     "data": {
      "text/html": [
       "<img src=\"http://python.org/images/python-logo.gif\"/>"
      ],
      "text/plain": [
       "<IPython.core.display.Image object>"
      ]
     },
     "execution_count": 49,
     "metadata": {},
     "output_type": "execute_result"
    }
   ],
   "source": [
    "from IPython.display import HTML, Image, YouTubeVideo\n",
    "from IPython.display import Image\n",
    "Image(url='http://python.org/images/python-logo.gif')\n"
   ]
  },
  {
   "cell_type": "markdown",
   "metadata": {},
   "source": [
    "$$e=mc^2$$"
   ]
  },
  {
   "cell_type": "code",
   "execution_count": 11,
   "metadata": {
    "collapsed": false
   },
   "outputs": [
    {
     "name": "stderr",
     "output_type": "stream",
     "text": [
      "ERROR: Line magic function `%lsmagis` not found.\n"
     ]
    }
   ],
   "source": [
    "%lsmagis"
   ]
  },
  {
   "cell_type": "code",
   "execution_count": 18,
   "metadata": {
    "collapsed": false
   },
   "outputs": [
    {
     "name": "stdout",
     "output_type": "stream",
     "text": [
      "test\n",
      "test\n",
      "test\n",
      "test\n",
      "1 loop, best of 3: 1 s per loop\n"
     ]
    }
   ],
   "source": [
    "%%timeit\n",
    "import time\n",
    "\n",
    "def proc():\n",
    "    print \"test\"\n",
    "    time.sleep(1)\n",
    "    \n",
    "\n",
    "proc()\n",
    "\n",
    "#%run test.py -t"
   ]
  },
  {
   "cell_type": "code",
   "execution_count": null,
   "metadata": {
    "collapsed": true
   },
   "outputs": [],
   "source": []
  }
 ],
 "metadata": {
  "anaconda-cloud": {
   "attach-environment": true,
   "environment": "Root",
   "summary": "pandas测试",
   "url": "https://anaconda.org/lujin77/dispatch_info_analyze"
  },
  "kernelspec": {
   "display_name": "Python [Root]",
   "language": "python",
   "name": "Python [Root]"
  },
  "language_info": {
   "codemirror_mode": {
    "name": "ipython",
    "version": 2
   },
   "file_extension": ".py",
   "mimetype": "text/x-python",
   "name": "python",
   "nbconvert_exporter": "python",
   "pygments_lexer": "ipython2",
   "version": "2.7.12"
  },
  "nbpresent": {
   "slides": {},
   "themes": {
    "default": "4e1917d8-09d6-493d-8158-9bf78ccde98f",
    "theme": {}
   }
  }
 },
 "nbformat": 4,
 "nbformat_minor": 0
}
